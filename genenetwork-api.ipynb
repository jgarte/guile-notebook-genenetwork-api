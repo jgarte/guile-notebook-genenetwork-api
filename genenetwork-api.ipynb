{
 "cells": [
  {
   "cell_type": "markdown",
   "id": "1d375f93",
   "metadata": {},
   "source": [
    "# Querying GeneNetwork with GNU Guile"
   ]
  },
  {
   "cell_type": "code",
   "execution_count": null,
   "id": "d2a8cdc3",
   "metadata": {},
   "outputs": [],
   "source": [
    "(use-modules (srfi srfi-1)\n",
    "             (web client)\n",
    "             (charting) \n",
    "             (pict)\n",
    "             (srfi srfi-11)\n",
    "             (srfi srfi-26)\n",
    "             (json)\n",
    "             (lens)\n",
    "             (ice-9 pretty-print)\n",
    "             (ice-9 match)\n",
    "             (rnrs bytevectors))\n",
    "\n"
   ]
  },
  {
   "cell_type": "code",
   "execution_count": null,
   "id": "65957bdf",
   "metadata": {},
   "outputs": [],
   "source": [
    ";; guile-pipe \n",
    ";; https://github.com/joshwalters/guile-pipe\n",
    "(define-syntax ->\n",
    "  (syntax-rules ()\n",
    "                ((_) #f)\n",
    "                ((_ x) x)\n",
    "                ((_ x (f . (f-rest ...))) (f x f-rest ...))\n",
    "                ((_ x f) (f x))\n",
    "                ((_ x (f . (f-rest ...)) rest ...) (-> (f x f-rest ...) rest ...))\n",
    "                ((_ x f rest ...) (-> (f x) rest ...)))h)\n",
    "\n",
    "(define-syntax ->>\n",
    "  (syntax-rules ()\n",
    "                ((_) #f)\n",
    "                ((_ x) x)\n",
    "                ((_ x (f ...)) (f ... x))\n",
    "                ((_ x f) `(f x))\n",
    "                ((_ x (f ...) rest ...) (->> (f ... x) rest ...))\n",
    "                ((_ x f rest ...) (->> (f x) rest ...))))"
   ]
  },
  {
   "cell_type": "code",
   "execution_count": null,
   "id": "ee7fb7af",
   "metadata": {},
   "outputs": [],
   "source": [
    "(define (get-data url)\n",
    "  (let-values (((_ y) (http-get url)))\n",
    "    (-> y utf8->string json-string->scm vector->list)))\n",
    "\n",
    "(define api \"http://genenetwork.org/api/v_pre1/\")\n",
    "\n",
    "(define bxd \n",
    "  (string-append api \"datasets/mouse/bxd\"))\n",
    "\n",
    "(define probe-set\n",
    "  (string-append api \"dataset/HC_M2_0606_P\"))\n",
    "\n",
    "(get-data bxd)"
   ]
  },
  {
   "cell_type": "code",
   "execution_count": null,
   "id": "9365599c",
   "metadata": {},
   "outputs": [],
   "source": [
    "(define u74av2\n",
    "  (let ((data (first (get-data bxd))))\n",
    "    (map first data)))\n",
    "\n",
    "u74av2"
   ]
  },
  {
   "cell_type": "code",
   "execution_count": null,
   "id": "bda8b699",
   "metadata": {},
   "outputs": [],
   "source": [
    "(focus (id) bxd)"
   ]
  },
  {
   "cell_type": "code",
   "execution_count": null,
   "id": "0063f6a6",
   "metadata": {},
   "outputs": [],
   "source": [
    "(define (plot title data)\n",
    "  (make-scatter-plot title data\n",
    "    #:write-to-png \"genenetwork-api-data.png\"))\n",
    "\n",
    "(plot \"GeneNetwork API\" '((\"ford\" (1 . 2) (2 . 3))\n",
    "    (\"opel\" (1.2 . 3.5) (4.5 . 1))))"
   ]
  },
  {
   "cell_type": "markdown",
   "id": "4024b54b",
   "metadata": {},
   "source": [
    "![title](genenetwork-api-data.png)"
   ]
  }
 ],
 "metadata": {
  "kernelspec": {
   "display_name": "Guile",
   "language": "scheme",
   "name": "guile"
  },
  "language_info": {
   "codemirror_mode": "scheme",
   "file_extension": ".scm",
   "mimetype": "application/x-scheme",
   "name": "guile",
   "pygments_lexer": "scheme",
   "version": "2.0.0"
  }
 },
 "nbformat": 4,
 "nbformat_minor": 5
}
