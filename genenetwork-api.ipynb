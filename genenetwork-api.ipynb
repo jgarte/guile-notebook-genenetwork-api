{
 "cells": [
  {
   "cell_type": "markdown",
   "id": "1d375f93",
   "metadata": {},
   "source": [
    "# Querying GeneNetwork with GNU Guile"
   ]
  },
  {
   "cell_type": "code",
   "execution_count": null,
   "id": "d2a8cdc3",
   "metadata": {},
   "outputs": [],
   "source": [
    "(use-modules (srfi srfi-1)\n",
    "             (web client)\n",
    "             (charting) \n",
    "             (pict)\n",
    "             (srfi srfi-11)\n",
    "             (srfi srfi-26)\n",
    "             (json)\n",
    "             (lens)\n",
    "             (ice-9 pretty-print)\n",
    "             (ice-9 match)\n",
    "             (rnrs bytevectors))\n",
    "\n",
    ";; guile-pipe \n",
    ";; https://github.com/joshwalters/guile-pipe\n",
    "(define-syntax ->\n",
    "  (syntax-rules ()\n",
    "                ((_) #f)\n",
    "                ((_ x) x)\n",
    "                ((_ x (f . (f-rest ...))) (f x f-rest ...))\n",
    "                ((_ x f) (f x))\n",
    "                ((_ x (f . (f-rest ...)) rest ...) (-> (f x f-rest ...) rest ...))\n",
    "                ((_ x f rest ...) (-> (f x) rest ...))))\n",
    "\n",
    "(define-syntax ->>\n",
    "  (syntax-rules ()\n",
    "                ((_) #f)\n",
    "                ((_ x) x)\n",
    "                ((_ x (f ...)) (f ... x))\n",
    "                ((_ x f) `(f x))\n",
    "                ((_ x (f ...) rest ...) (->> (f ... x) rest ...))\n",
    "                ((_ x f rest ...) (->> (f x) rest ...))))"
   ]
  },
  {
   "cell_type": "code",
   "execution_count": null,
   "id": "ee7fb7af",
   "metadata": {},
   "outputs": [],
   "source": [
    "(define (get-data url)\n",
    "  (let-values (((_ y) (http-get url)))\n",
    "    (-> y utf8->string json-string->scm vector->list)))\n",
    "\n",
    "(define api \"http://genenetwork.org/api/\")\n",
    "\n",
    "(define bxd\n",
    "  (let ((endpoint (string-append api \"v_pre1/datasets/mouse/bxd\")))\n",
    "    (get-data endpoint)))\n",
    "\n",
    ";(map first ())"
   ]
  },
  {
   "cell_type": "code",
   "execution_count": null,
   "id": "9365599c",
   "metadata": {},
   "outputs": [],
   "source": [
    "(focus (id) bxd)"
   ]
  },
  {
   "cell_type": "code",
   "execution_count": null,
   "id": "4706bee8",
   "metadata": {},
   "outputs": [],
   "source": [
    "(focus (key \"CreateTime\") bxd)"
   ]
  },
  {
   "cell_type": "code",
   "execution_count": null,
   "id": "601501a8",
   "metadata": {},
   "outputs": [],
   "source": [
    "(focus (tail) (second bxd))"
   ]
  },
  {
   "cell_type": "code",
   "execution_count": null,
   "id": "aedd636f",
   "metadata": {},
   "outputs": [],
   "source": [
    "(focus (key-ref \"FullName\") (first bxd))"
   ]
  },
  {
   "cell_type": "code",
   "execution_count": null,
   "id": "d692a866",
   "metadata": {},
   "outputs": [],
   "source": [
    "(first bxd)"
   ]
  },
  {
   "cell_type": "code",
   "execution_count": null,
   "id": "b8ebc02e",
   "metadata": {},
   "outputs": [],
   "source": [
    ";; (focus (in \"public\" \"confidentiality\") (first bxd))\n",
    "(first (first bxd))"
   ]
  },
  {
   "cell_type": "code",
   "execution_count": null,
   "id": "96796885",
   "metadata": {},
   "outputs": [],
   "source": [
    "(focus (passes (compose (cut eq? <> 'a) first)) '(a b c))"
   ]
  },
  {
   "cell_type": "code",
   "execution_count": null,
   "id": "63cefb90",
   "metadata": {},
   "outputs": [],
   "source": [
    "(put (passes* (compose list? first) (fst) (id)) '(d e f) '((a) b c))"
   ]
  },
  {
   "cell_type": "code",
   "execution_count": null,
   "id": "0063f6a6",
   "metadata": {},
   "outputs": [],
   "source": [
    "(define (plot title data)\n",
    "  (make-scatter-plot title data\n",
    "    #:write-to-png \"genenetwork-api-data.png\"))\n",
    "\n",
    "(plot \"GeneNetwork API\" '((\"ford\" (1 . 2) (2 . 3))\n",
    "    (\"opel\" (1.2 . 3.5) (4.5 . 1))))"
   ]
  },
  {
   "cell_type": "markdown",
   "id": "4024b54b",
   "metadata": {},
   "source": [
    "![title](genenetwork-api-data.png)"
   ]
  },
  {
   "cell_type": "code",
   "execution_count": null,
   "id": "16d0e61b",
   "metadata": {},
   "outputs": [],
   "source": [
    "(focus (id) '(a b c))"
   ]
  },
  {
   "cell_type": "code",
   "execution_count": null,
   "id": "acc2f86b",
   "metadata": {},
   "outputs": [],
   "source": [
    "(focus (nth 10) bxd-mouse-data)"
   ]
  },
  {
   "cell_type": "code",
   "execution_count": null,
   "id": "4e4de09b",
   "metadata": {},
   "outputs": [],
   "source": [
    "(list? bxd-mouse-data)"
   ]
  }
 ],
 "metadata": {
  "kernelspec": {
   "display_name": "Guile",
   "language": "scheme",
   "name": "guile"
  },
  "language_info": {
   "codemirror_mode": "scheme",
   "file_extension": ".scm",
   "mimetype": "application/x-scheme",
   "name": "guile",
   "pygments_lexer": "scheme",
   "version": "2.0.0"
  }
 },
 "nbformat": 4,
 "nbformat_minor": 5
}
